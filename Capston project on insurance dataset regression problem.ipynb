{
 "cells": [
  {
   "cell_type": "markdown",
   "id": "ba372c18",
   "metadata": {},
   "source": [
    "**import libarries**"
   ]
  },
  {
   "cell_type": "code",
   "execution_count": 1,
   "id": "d28dc175",
   "metadata": {},
   "outputs": [],
   "source": [
    "import numpy as np\n",
    "import pandas as pd\n",
    "import matplotlib.pyplot as plt\n",
    "import seaborn as sns\n",
    "import warnings\n",
    "warnings.simplefilter('ignore')"
   ]
  },
  {
   "cell_type": "code",
   "execution_count": 2,
   "id": "54148138",
   "metadata": {},
   "outputs": [
    {
     "data": {
      "text/html": [
       "<div>\n",
       "<style scoped>\n",
       "    .dataframe tbody tr th:only-of-type {\n",
       "        vertical-align: middle;\n",
       "    }\n",
       "\n",
       "    .dataframe tbody tr th {\n",
       "        vertical-align: top;\n",
       "    }\n",
       "\n",
       "    .dataframe thead th {\n",
       "        text-align: right;\n",
       "    }\n",
       "</style>\n",
       "<table border=\"1\" class=\"dataframe\">\n",
       "  <thead>\n",
       "    <tr style=\"text-align: right;\">\n",
       "      <th></th>\n",
       "      <th>age</th>\n",
       "      <th>sex</th>\n",
       "      <th>bmi</th>\n",
       "      <th>smoker</th>\n",
       "      <th>region</th>\n",
       "      <th>children</th>\n",
       "      <th>charges</th>\n",
       "    </tr>\n",
       "  </thead>\n",
       "  <tbody>\n",
       "    <tr>\n",
       "      <th>0</th>\n",
       "      <td>21.000000</td>\n",
       "      <td>male</td>\n",
       "      <td>25.745000</td>\n",
       "      <td>no</td>\n",
       "      <td>northeast</td>\n",
       "      <td>2</td>\n",
       "      <td>3279.868550</td>\n",
       "    </tr>\n",
       "    <tr>\n",
       "      <th>1</th>\n",
       "      <td>36.976978</td>\n",
       "      <td>female</td>\n",
       "      <td>25.744165</td>\n",
       "      <td>yes</td>\n",
       "      <td>southeast</td>\n",
       "      <td>3</td>\n",
       "      <td>21454.494239</td>\n",
       "    </tr>\n",
       "    <tr>\n",
       "      <th>2</th>\n",
       "      <td>18.000000</td>\n",
       "      <td>male</td>\n",
       "      <td>30.030000</td>\n",
       "      <td>no</td>\n",
       "      <td>southeast</td>\n",
       "      <td>1</td>\n",
       "      <td>1720.353700</td>\n",
       "    </tr>\n",
       "    <tr>\n",
       "      <th>3</th>\n",
       "      <td>37.000000</td>\n",
       "      <td>male</td>\n",
       "      <td>30.676891</td>\n",
       "      <td>no</td>\n",
       "      <td>northeast</td>\n",
       "      <td>3</td>\n",
       "      <td>6801.437542</td>\n",
       "    </tr>\n",
       "    <tr>\n",
       "      <th>4</th>\n",
       "      <td>58.000000</td>\n",
       "      <td>male</td>\n",
       "      <td>32.010000</td>\n",
       "      <td>no</td>\n",
       "      <td>southeast</td>\n",
       "      <td>1</td>\n",
       "      <td>11946.625900</td>\n",
       "    </tr>\n",
       "    <tr>\n",
       "      <th>...</th>\n",
       "      <td>...</td>\n",
       "      <td>...</td>\n",
       "      <td>...</td>\n",
       "      <td>...</td>\n",
       "      <td>...</td>\n",
       "      <td>...</td>\n",
       "      <td>...</td>\n",
       "    </tr>\n",
       "    <tr>\n",
       "      <th>3625</th>\n",
       "      <td>48.820767</td>\n",
       "      <td>female</td>\n",
       "      <td>41.426984</td>\n",
       "      <td>no</td>\n",
       "      <td>northwest</td>\n",
       "      <td>4</td>\n",
       "      <td>10987.324964</td>\n",
       "    </tr>\n",
       "    <tr>\n",
       "      <th>3626</th>\n",
       "      <td>38.661977</td>\n",
       "      <td>female</td>\n",
       "      <td>26.202557</td>\n",
       "      <td>no</td>\n",
       "      <td>southeast</td>\n",
       "      <td>2</td>\n",
       "      <td>11735.844352</td>\n",
       "    </tr>\n",
       "    <tr>\n",
       "      <th>3627</th>\n",
       "      <td>56.000000</td>\n",
       "      <td>male</td>\n",
       "      <td>40.300000</td>\n",
       "      <td>no</td>\n",
       "      <td>southwest</td>\n",
       "      <td>0</td>\n",
       "      <td>10602.385000</td>\n",
       "    </tr>\n",
       "    <tr>\n",
       "      <th>3628</th>\n",
       "      <td>48.061207</td>\n",
       "      <td>female</td>\n",
       "      <td>34.930624</td>\n",
       "      <td>no</td>\n",
       "      <td>southeast</td>\n",
       "      <td>1</td>\n",
       "      <td>8976.140452</td>\n",
       "    </tr>\n",
       "    <tr>\n",
       "      <th>3629</th>\n",
       "      <td>37.598865</td>\n",
       "      <td>female</td>\n",
       "      <td>25.219233</td>\n",
       "      <td>no</td>\n",
       "      <td>northeast</td>\n",
       "      <td>3</td>\n",
       "      <td>7027.698968</td>\n",
       "    </tr>\n",
       "  </tbody>\n",
       "</table>\n",
       "<p>3630 rows × 7 columns</p>\n",
       "</div>"
      ],
      "text/plain": [
       "            age     sex        bmi smoker     region  children       charges\n",
       "0     21.000000    male  25.745000     no  northeast         2   3279.868550\n",
       "1     36.976978  female  25.744165    yes  southeast         3  21454.494239\n",
       "2     18.000000    male  30.030000     no  southeast         1   1720.353700\n",
       "3     37.000000    male  30.676891     no  northeast         3   6801.437542\n",
       "4     58.000000    male  32.010000     no  southeast         1  11946.625900\n",
       "...         ...     ...        ...    ...        ...       ...           ...\n",
       "3625  48.820767  female  41.426984     no  northwest         4  10987.324964\n",
       "3626  38.661977  female  26.202557     no  southeast         2  11735.844352\n",
       "3627  56.000000    male  40.300000     no  southwest         0  10602.385000\n",
       "3628  48.061207  female  34.930624     no  southeast         1   8976.140452\n",
       "3629  37.598865  female  25.219233     no  northeast         3   7027.698968\n",
       "\n",
       "[3630 rows x 7 columns]"
      ]
     },
     "execution_count": 2,
     "metadata": {},
     "output_type": "execute_result"
    }
   ],
   "source": [
    "# Load the train dataset\n",
    "df=pd.read_csv('Insurance_train_Data.csv')\n",
    "df"
   ]
  },
  {
   "cell_type": "code",
   "execution_count": 3,
   "id": "b12d5837",
   "metadata": {},
   "outputs": [
    {
     "data": {
      "text/plain": [
       "(3630, 7)"
      ]
     },
     "execution_count": 3,
     "metadata": {},
     "output_type": "execute_result"
    }
   ],
   "source": [
    "df.shape"
   ]
  },
  {
   "cell_type": "code",
   "execution_count": 4,
   "id": "6a10af7a",
   "metadata": {},
   "outputs": [
    {
     "name": "stdout",
     "output_type": "stream",
     "text": [
      "<class 'pandas.core.frame.DataFrame'>\n",
      "RangeIndex: 3630 entries, 0 to 3629\n",
      "Data columns (total 7 columns):\n",
      " #   Column    Non-Null Count  Dtype  \n",
      "---  ------    --------------  -----  \n",
      " 0   age       3630 non-null   float64\n",
      " 1   sex       3630 non-null   object \n",
      " 2   bmi       3630 non-null   float64\n",
      " 3   smoker    3630 non-null   object \n",
      " 4   region    3630 non-null   object \n",
      " 5   children  3630 non-null   int64  \n",
      " 6   charges   3630 non-null   float64\n",
      "dtypes: float64(3), int64(1), object(3)\n",
      "memory usage: 198.6+ KB\n"
     ]
    }
   ],
   "source": [
    "df.info()"
   ]
  },
  {
   "cell_type": "code",
   "execution_count": 5,
   "id": "11dfa8e8",
   "metadata": {},
   "outputs": [
    {
     "name": "stdout",
     "output_type": "stream",
     "text": [
      "continuous features: ['age', 'bmi', 'charges']\n",
      "categorical features: ['sex', 'smoker', 'region']\n",
      "features to be checked: ['children']\n"
     ]
    }
   ],
   "source": [
    "# Exploratory Data Analysis\n",
    "continuous=[]\n",
    "categorical=[]\n",
    "check=[]\n",
    "\n",
    "d_types=dict(df.dtypes)\n",
    "for name,type in d_types.items():\n",
    "    if str(type)=='float64':\n",
    "        continuous.append(name)\n",
    "    elif str(type)=='object':\n",
    "        categorical.append(name)\n",
    "    else:\n",
    "        check.append(name)\n",
    "        \n",
    "print('continuous features:',continuous)\n",
    "print('categorical features:',categorical)\n",
    "print('features to be checked:',check)"
   ]
  },
  {
   "cell_type": "code",
   "execution_count": 6,
   "id": "c4c55df1",
   "metadata": {},
   "outputs": [
    {
     "name": "stdout",
     "output_type": "stream",
     "text": [
      "<=======sex=======>\n",
      "male      2029\n",
      "female    1601\n",
      "Name: sex, dtype: int64\n",
      "<=======smoker=======>\n",
      "no     3070\n",
      "yes     560\n",
      "Name: smoker, dtype: int64\n",
      "<=======region=======>\n",
      "southeast    1021\n",
      "northwest     911\n",
      "southwest     850\n",
      "northeast     848\n",
      "Name: region, dtype: int64\n"
     ]
    }
   ],
   "source": [
    "d_types=dict(df.dtypes)\n",
    "for name,type in d_types.items():\n",
    "    if str(type)=='object':\n",
    "        print(f'<======={name}=======>')\n",
    "        print(df[name].value_counts())\n",
    "    "
   ]
  },
  {
   "cell_type": "code",
   "execution_count": 7,
   "id": "b53cd644",
   "metadata": {},
   "outputs": [
    {
     "data": {
      "text/html": [
       "<div>\n",
       "<style scoped>\n",
       "    .dataframe tbody tr th:only-of-type {\n",
       "        vertical-align: middle;\n",
       "    }\n",
       "\n",
       "    .dataframe tbody tr th {\n",
       "        vertical-align: top;\n",
       "    }\n",
       "\n",
       "    .dataframe thead th {\n",
       "        text-align: right;\n",
       "    }\n",
       "</style>\n",
       "<table border=\"1\" class=\"dataframe\">\n",
       "  <thead>\n",
       "    <tr style=\"text-align: right;\">\n",
       "      <th></th>\n",
       "      <th>age</th>\n",
       "      <th>bmi</th>\n",
       "      <th>children</th>\n",
       "      <th>charges</th>\n",
       "    </tr>\n",
       "  </thead>\n",
       "  <tbody>\n",
       "    <tr>\n",
       "      <th>count</th>\n",
       "      <td>3630.000000</td>\n",
       "      <td>3630.000000</td>\n",
       "      <td>3630.000000</td>\n",
       "      <td>3630.000000</td>\n",
       "    </tr>\n",
       "    <tr>\n",
       "      <th>mean</th>\n",
       "      <td>38.887036</td>\n",
       "      <td>30.629652</td>\n",
       "      <td>2.503581</td>\n",
       "      <td>12784.808644</td>\n",
       "    </tr>\n",
       "    <tr>\n",
       "      <th>std</th>\n",
       "      <td>12.151029</td>\n",
       "      <td>5.441307</td>\n",
       "      <td>1.712568</td>\n",
       "      <td>10746.166743</td>\n",
       "    </tr>\n",
       "    <tr>\n",
       "      <th>min</th>\n",
       "      <td>18.000000</td>\n",
       "      <td>15.960000</td>\n",
       "      <td>0.000000</td>\n",
       "      <td>1121.873900</td>\n",
       "    </tr>\n",
       "    <tr>\n",
       "      <th>25%</th>\n",
       "      <td>29.000000</td>\n",
       "      <td>26.694526</td>\n",
       "      <td>1.000000</td>\n",
       "      <td>5654.818262</td>\n",
       "    </tr>\n",
       "    <tr>\n",
       "      <th>50%</th>\n",
       "      <td>39.170922</td>\n",
       "      <td>30.200000</td>\n",
       "      <td>3.000000</td>\n",
       "      <td>9443.807222</td>\n",
       "    </tr>\n",
       "    <tr>\n",
       "      <th>75%</th>\n",
       "      <td>48.343281</td>\n",
       "      <td>34.100000</td>\n",
       "      <td>4.000000</td>\n",
       "      <td>14680.407505</td>\n",
       "    </tr>\n",
       "    <tr>\n",
       "      <th>max</th>\n",
       "      <td>64.000000</td>\n",
       "      <td>53.130000</td>\n",
       "      <td>5.000000</td>\n",
       "      <td>63770.428010</td>\n",
       "    </tr>\n",
       "  </tbody>\n",
       "</table>\n",
       "</div>"
      ],
      "text/plain": [
       "               age          bmi     children       charges\n",
       "count  3630.000000  3630.000000  3630.000000   3630.000000\n",
       "mean     38.887036    30.629652     2.503581  12784.808644\n",
       "std      12.151029     5.441307     1.712568  10746.166743\n",
       "min      18.000000    15.960000     0.000000   1121.873900\n",
       "25%      29.000000    26.694526     1.000000   5654.818262\n",
       "50%      39.170922    30.200000     3.000000   9443.807222\n",
       "75%      48.343281    34.100000     4.000000  14680.407505\n",
       "max      64.000000    53.130000     5.000000  63770.428010"
      ]
     },
     "execution_count": 7,
     "metadata": {},
     "output_type": "execute_result"
    }
   ],
   "source": [
    "df.describe()"
   ]
  },
  {
   "cell_type": "code",
   "execution_count": 8,
   "id": "062e5d7c",
   "metadata": {},
   "outputs": [
    {
     "data": {
      "text/html": [
       "<div>\n",
       "<style scoped>\n",
       "    .dataframe tbody tr th:only-of-type {\n",
       "        vertical-align: middle;\n",
       "    }\n",
       "\n",
       "    .dataframe tbody tr th {\n",
       "        vertical-align: top;\n",
       "    }\n",
       "\n",
       "    .dataframe thead th {\n",
       "        text-align: right;\n",
       "    }\n",
       "</style>\n",
       "<table border=\"1\" class=\"dataframe\">\n",
       "  <thead>\n",
       "    <tr style=\"text-align: right;\">\n",
       "      <th></th>\n",
       "      <th>age</th>\n",
       "      <th>bmi</th>\n",
       "      <th>children</th>\n",
       "      <th>charges</th>\n",
       "    </tr>\n",
       "  </thead>\n",
       "  <tbody>\n",
       "    <tr>\n",
       "      <th>age</th>\n",
       "      <td>1.000000</td>\n",
       "      <td>0.143527</td>\n",
       "      <td>-0.061076</td>\n",
       "      <td>0.299692</td>\n",
       "    </tr>\n",
       "    <tr>\n",
       "      <th>bmi</th>\n",
       "      <td>0.143527</td>\n",
       "      <td>1.000000</td>\n",
       "      <td>-0.041996</td>\n",
       "      <td>0.211325</td>\n",
       "    </tr>\n",
       "    <tr>\n",
       "      <th>children</th>\n",
       "      <td>-0.061076</td>\n",
       "      <td>-0.041996</td>\n",
       "      <td>1.000000</td>\n",
       "      <td>-0.075089</td>\n",
       "    </tr>\n",
       "    <tr>\n",
       "      <th>charges</th>\n",
       "      <td>0.299692</td>\n",
       "      <td>0.211325</td>\n",
       "      <td>-0.075089</td>\n",
       "      <td>1.000000</td>\n",
       "    </tr>\n",
       "  </tbody>\n",
       "</table>\n",
       "</div>"
      ],
      "text/plain": [
       "               age       bmi  children   charges\n",
       "age       1.000000  0.143527 -0.061076  0.299692\n",
       "bmi       0.143527  1.000000 -0.041996  0.211325\n",
       "children -0.061076 -0.041996  1.000000 -0.075089\n",
       "charges   0.299692  0.211325 -0.075089  1.000000"
      ]
     },
     "execution_count": 8,
     "metadata": {},
     "output_type": "execute_result"
    }
   ],
   "source": [
    "df.corr()"
   ]
  },
  {
   "cell_type": "code",
   "execution_count": 9,
   "id": "b7d88777",
   "metadata": {},
   "outputs": [
    {
     "data": {
      "image/png": "[encoded data removed]",
      "text/plain": [
       "<Figure size 500x500 with 1 Axes>"
      ]
     },
     "metadata": {},
     "output_type": "display_data"
    }
   ],
   "source": [
    "sns.catplot(x='sex',y='charges',data=df)\n",
    "plt.show()"
   ]
  },
  {
   "cell_type": "code",
   "execution_count": 10,
   "id": "fe69d876",
   "metadata": {},
   "outputs": [
    {
     "data": {
      "image/png": "[encoded data removed]",
      "text/plain": [
       "<Figure size 640x480 with 1 Axes>"
      ]
     },
     "metadata": {},
     "output_type": "display_data"
    }
   ],
   "source": [
    "sns.countplot(x=df['smoker'])\n",
    "plt.show()"
   ]
  },
  {
   "cell_type": "code",
   "execution_count": 11,
   "id": "f4050173",
   "metadata": {},
   "outputs": [
    {
     "data": {
      "text/plain": [
       "age         0\n",
       "sex         0\n",
       "bmi         0\n",
       "smoker      0\n",
       "region      0\n",
       "children    0\n",
       "charges     0\n",
       "dtype: int64"
      ]
     },
     "execution_count": 11,
     "metadata": {},
     "output_type": "execute_result"
    }
   ],
   "source": [
    "# Data Preprocessing\n",
    "df.isnull().sum()"
   ]
  },
  {
   "cell_type": "code",
   "execution_count": 12,
   "id": "8f669409",
   "metadata": {},
   "outputs": [
    {
     "data": {
      "text/plain": [
       "679"
      ]
     },
     "execution_count": 12,
     "metadata": {},
     "output_type": "execute_result"
    }
   ],
   "source": [
    "df.duplicated().sum()"
   ]
  },
  {
   "cell_type": "code",
   "execution_count": 13,
   "id": "49ad5abd",
   "metadata": {},
   "outputs": [
    {
     "data": {
      "text/html": [
       "<div>\n",
       "<style scoped>\n",
       "    .dataframe tbody tr th:only-of-type {\n",
       "        vertical-align: middle;\n",
       "    }\n",
       "\n",
       "    .dataframe tbody tr th {\n",
       "        vertical-align: top;\n",
       "    }\n",
       "\n",
       "    .dataframe thead th {\n",
       "        text-align: right;\n",
       "    }\n",
       "</style>\n",
       "<table border=\"1\" class=\"dataframe\">\n",
       "  <thead>\n",
       "    <tr style=\"text-align: right;\">\n",
       "      <th></th>\n",
       "      <th>age</th>\n",
       "      <th>sex</th>\n",
       "      <th>bmi</th>\n",
       "      <th>smoker</th>\n",
       "      <th>region</th>\n",
       "      <th>children</th>\n",
       "      <th>charges</th>\n",
       "    </tr>\n",
       "  </thead>\n",
       "  <tbody>\n",
       "    <tr>\n",
       "      <th>0</th>\n",
       "      <td>21.000000</td>\n",
       "      <td>male</td>\n",
       "      <td>25.745000</td>\n",
       "      <td>no</td>\n",
       "      <td>northeast</td>\n",
       "      <td>2</td>\n",
       "      <td>3279.868550</td>\n",
       "    </tr>\n",
       "    <tr>\n",
       "      <th>1</th>\n",
       "      <td>36.976978</td>\n",
       "      <td>female</td>\n",
       "      <td>25.744165</td>\n",
       "      <td>yes</td>\n",
       "      <td>southeast</td>\n",
       "      <td>3</td>\n",
       "      <td>21454.494239</td>\n",
       "    </tr>\n",
       "    <tr>\n",
       "      <th>2</th>\n",
       "      <td>18.000000</td>\n",
       "      <td>male</td>\n",
       "      <td>30.030000</td>\n",
       "      <td>no</td>\n",
       "      <td>southeast</td>\n",
       "      <td>1</td>\n",
       "      <td>1720.353700</td>\n",
       "    </tr>\n",
       "    <tr>\n",
       "      <th>3</th>\n",
       "      <td>37.000000</td>\n",
       "      <td>male</td>\n",
       "      <td>30.676891</td>\n",
       "      <td>no</td>\n",
       "      <td>northeast</td>\n",
       "      <td>3</td>\n",
       "      <td>6801.437542</td>\n",
       "    </tr>\n",
       "    <tr>\n",
       "      <th>4</th>\n",
       "      <td>58.000000</td>\n",
       "      <td>male</td>\n",
       "      <td>32.010000</td>\n",
       "      <td>no</td>\n",
       "      <td>southeast</td>\n",
       "      <td>1</td>\n",
       "      <td>11946.625900</td>\n",
       "    </tr>\n",
       "    <tr>\n",
       "      <th>...</th>\n",
       "      <td>...</td>\n",
       "      <td>...</td>\n",
       "      <td>...</td>\n",
       "      <td>...</td>\n",
       "      <td>...</td>\n",
       "      <td>...</td>\n",
       "      <td>...</td>\n",
       "    </tr>\n",
       "    <tr>\n",
       "      <th>2947</th>\n",
       "      <td>43.000000</td>\n",
       "      <td>male</td>\n",
       "      <td>35.531966</td>\n",
       "      <td>yes</td>\n",
       "      <td>southeast</td>\n",
       "      <td>2</td>\n",
       "      <td>18989.365540</td>\n",
       "    </tr>\n",
       "    <tr>\n",
       "      <th>2948</th>\n",
       "      <td>31.374148</td>\n",
       "      <td>male</td>\n",
       "      <td>28.278549</td>\n",
       "      <td>no</td>\n",
       "      <td>northeast</td>\n",
       "      <td>4</td>\n",
       "      <td>21806.181609</td>\n",
       "    </tr>\n",
       "    <tr>\n",
       "      <th>2949</th>\n",
       "      <td>50.370750</td>\n",
       "      <td>female</td>\n",
       "      <td>26.766297</td>\n",
       "      <td>no</td>\n",
       "      <td>northwest</td>\n",
       "      <td>4</td>\n",
       "      <td>11355.817586</td>\n",
       "    </tr>\n",
       "    <tr>\n",
       "      <th>2950</th>\n",
       "      <td>49.201678</td>\n",
       "      <td>female</td>\n",
       "      <td>31.396840</td>\n",
       "      <td>no</td>\n",
       "      <td>northwest</td>\n",
       "      <td>4</td>\n",
       "      <td>11185.914056</td>\n",
       "    </tr>\n",
       "    <tr>\n",
       "      <th>2951</th>\n",
       "      <td>49.000000</td>\n",
       "      <td>male</td>\n",
       "      <td>30.900000</td>\n",
       "      <td>yes</td>\n",
       "      <td>southwest</td>\n",
       "      <td>0</td>\n",
       "      <td>39727.614000</td>\n",
       "    </tr>\n",
       "  </tbody>\n",
       "</table>\n",
       "<p>2951 rows × 7 columns</p>\n",
       "</div>"
      ],
      "text/plain": [
       "            age     sex        bmi smoker     region  children       charges\n",
       "0     21.000000    male  25.745000     no  northeast         2   3279.868550\n",
       "1     36.976978  female  25.744165    yes  southeast         3  21454.494239\n",
       "2     18.000000    male  30.030000     no  southeast         1   1720.353700\n",
       "3     37.000000    male  30.676891     no  northeast         3   6801.437542\n",
       "4     58.000000    male  32.010000     no  southeast         1  11946.625900\n",
       "...         ...     ...        ...    ...        ...       ...           ...\n",
       "2947  43.000000    male  35.531966    yes  southeast         2  18989.365540\n",
       "2948  31.374148    male  28.278549     no  northeast         4  21806.181609\n",
       "2949  50.370750  female  26.766297     no  northwest         4  11355.817586\n",
       "2950  49.201678  female  31.396840     no  northwest         4  11185.914056\n",
       "2951  49.000000    male  30.900000    yes  southwest         0  39727.614000\n",
       "\n",
       "[2951 rows x 7 columns]"
      ]
     },
     "execution_count": 13,
     "metadata": {},
     "output_type": "execute_result"
    }
   ],
   "source": [
    "df.drop_duplicates()"
   ]
  },
  {
   "cell_type": "code",
   "execution_count": 14,
   "id": "6204754a",
   "metadata": {},
   "outputs": [],
   "source": [
    "# drop the region column\n",
    "df.drop('region',axis=1,inplace=True)"
   ]
  },
  {
   "cell_type": "code",
   "execution_count": 15,
   "id": "a0d37686",
   "metadata": {},
   "outputs": [],
   "source": [
    "# encoding the sex & smoker columns\n",
    "df['sex'].replace({'female':0,'male':1},inplace=True)\n",
    "df['smoker'].replace({'no':0,'yes':1},inplace=True)"
   ]
  },
  {
   "cell_type": "code",
   "execution_count": 16,
   "id": "5dd506f2",
   "metadata": {},
   "outputs": [
    {
     "data": {
      "text/html": [
       "<div>\n",
       "<style scoped>\n",
       "    .dataframe tbody tr th:only-of-type {\n",
       "        vertical-align: middle;\n",
       "    }\n",
       "\n",
       "    .dataframe tbody tr th {\n",
       "        vertical-align: top;\n",
       "    }\n",
       "\n",
       "    .dataframe thead th {\n",
       "        text-align: right;\n",
       "    }\n",
       "</style>\n",
       "<table border=\"1\" class=\"dataframe\">\n",
       "  <thead>\n",
       "    <tr style=\"text-align: right;\">\n",
       "      <th></th>\n",
       "      <th>age</th>\n",
       "      <th>sex</th>\n",
       "      <th>bmi</th>\n",
       "      <th>smoker</th>\n",
       "      <th>children</th>\n",
       "      <th>charges</th>\n",
       "    </tr>\n",
       "  </thead>\n",
       "  <tbody>\n",
       "    <tr>\n",
       "      <th>0</th>\n",
       "      <td>21.000000</td>\n",
       "      <td>1</td>\n",
       "      <td>25.745000</td>\n",
       "      <td>0</td>\n",
       "      <td>2</td>\n",
       "      <td>3279.868550</td>\n",
       "    </tr>\n",
       "    <tr>\n",
       "      <th>1</th>\n",
       "      <td>36.976978</td>\n",
       "      <td>0</td>\n",
       "      <td>25.744165</td>\n",
       "      <td>1</td>\n",
       "      <td>3</td>\n",
       "      <td>21454.494239</td>\n",
       "    </tr>\n",
       "    <tr>\n",
       "      <th>2</th>\n",
       "      <td>18.000000</td>\n",
       "      <td>1</td>\n",
       "      <td>30.030000</td>\n",
       "      <td>0</td>\n",
       "      <td>1</td>\n",
       "      <td>1720.353700</td>\n",
       "    </tr>\n",
       "    <tr>\n",
       "      <th>3</th>\n",
       "      <td>37.000000</td>\n",
       "      <td>1</td>\n",
       "      <td>30.676891</td>\n",
       "      <td>0</td>\n",
       "      <td>3</td>\n",
       "      <td>6801.437542</td>\n",
       "    </tr>\n",
       "    <tr>\n",
       "      <th>4</th>\n",
       "      <td>58.000000</td>\n",
       "      <td>1</td>\n",
       "      <td>32.010000</td>\n",
       "      <td>0</td>\n",
       "      <td>1</td>\n",
       "      <td>11946.625900</td>\n",
       "    </tr>\n",
       "    <tr>\n",
       "      <th>...</th>\n",
       "      <td>...</td>\n",
       "      <td>...</td>\n",
       "      <td>...</td>\n",
       "      <td>...</td>\n",
       "      <td>...</td>\n",
       "      <td>...</td>\n",
       "    </tr>\n",
       "    <tr>\n",
       "      <th>3625</th>\n",
       "      <td>48.820767</td>\n",
       "      <td>0</td>\n",
       "      <td>41.426984</td>\n",
       "      <td>0</td>\n",
       "      <td>4</td>\n",
       "      <td>10987.324964</td>\n",
       "    </tr>\n",
       "    <tr>\n",
       "      <th>3626</th>\n",
       "      <td>38.661977</td>\n",
       "      <td>0</td>\n",
       "      <td>26.202557</td>\n",
       "      <td>0</td>\n",
       "      <td>2</td>\n",
       "      <td>11735.844352</td>\n",
       "    </tr>\n",
       "    <tr>\n",
       "      <th>3627</th>\n",
       "      <td>56.000000</td>\n",
       "      <td>1</td>\n",
       "      <td>40.300000</td>\n",
       "      <td>0</td>\n",
       "      <td>0</td>\n",
       "      <td>10602.385000</td>\n",
       "    </tr>\n",
       "    <tr>\n",
       "      <th>3628</th>\n",
       "      <td>48.061207</td>\n",
       "      <td>0</td>\n",
       "      <td>34.930624</td>\n",
       "      <td>0</td>\n",
       "      <td>1</td>\n",
       "      <td>8976.140452</td>\n",
       "    </tr>\n",
       "    <tr>\n",
       "      <th>3629</th>\n",
       "      <td>37.598865</td>\n",
       "      <td>0</td>\n",
       "      <td>25.219233</td>\n",
       "      <td>0</td>\n",
       "      <td>3</td>\n",
       "      <td>7027.698968</td>\n",
       "    </tr>\n",
       "  </tbody>\n",
       "</table>\n",
       "<p>3630 rows × 6 columns</p>\n",
       "</div>"
      ],
      "text/plain": [
       "            age  sex        bmi  smoker  children       charges\n",
       "0     21.000000    1  25.745000       0         2   3279.868550\n",
       "1     36.976978    0  25.744165       1         3  21454.494239\n",
       "2     18.000000    1  30.030000       0         1   1720.353700\n",
       "3     37.000000    1  30.676891       0         3   6801.437542\n",
       "4     58.000000    1  32.010000       0         1  11946.625900\n",
       "...         ...  ...        ...     ...       ...           ...\n",
       "3625  48.820767    0  41.426984       0         4  10987.324964\n",
       "3626  38.661977    0  26.202557       0         2  11735.844352\n",
       "3627  56.000000    1  40.300000       0         0  10602.385000\n",
       "3628  48.061207    0  34.930624       0         1   8976.140452\n",
       "3629  37.598865    0  25.219233       0         3   7027.698968\n",
       "\n",
       "[3630 rows x 6 columns]"
      ]
     },
     "execution_count": 16,
     "metadata": {},
     "output_type": "execute_result"
    }
   ],
   "source": [
    "df"
   ]
  },
  {
   "cell_type": "code",
   "execution_count": 17,
   "id": "0c4839a3",
   "metadata": {},
   "outputs": [],
   "source": [
    "x=df.drop('charges',axis=1)\n",
    "y=df['charges']"
   ]
  },
  {
   "cell_type": "code",
   "execution_count": 18,
   "id": "650987d4",
   "metadata": {},
   "outputs": [],
   "source": [
    "# train_test split\n",
    "from sklearn.model_selection import train_test_split\n",
    "x_train,x_test,y_train,y_test=train_test_split(x,y,test_size=0.3,random_state=42)"
   ]
  },
  {
   "cell_type": "code",
   "execution_count": 19,
   "id": "54c71841",
   "metadata": {},
   "outputs": [
    {
     "name": "stdout",
     "output_type": "stream",
     "text": [
      "train r2: 0.7103894022473263\n",
      "test r2: 0.7151582391089047\n",
      "intercept value: -10481.619561694195\n",
      "coefficient values: [  236.10614035  1167.83903274   283.02391203 22605.65341795\n",
      "   452.1481908 ]\n",
      "[0.72259388 0.67980376 0.70816226 0.72062125 0.72594843]\n",
      "cross val score: 0.7114259147332114\n"
     ]
    }
   ],
   "source": [
    "#modeling & evaluation\n",
    "from sklearn.linear_model import LinearRegression\n",
    "linear_model=LinearRegression()\n",
    "linear_model.fit(x_train,y_train)\n",
    "\n",
    "#predictions\n",
    "train_prediction=linear_model.predict(x_train)\n",
    "test_prediction=linear_model.predict(x_test)\n",
    "\n",
    "# train & test r2\n",
    "print('train r2:',linear_model.score(x_train,y_train))\n",
    "print('test r2:',linear_model.score(x_test,y_test))\n",
    "\n",
    "#intercept & coefficient values\n",
    "print('intercept value:',linear_model.intercept_)\n",
    "print('coefficient values:',linear_model.coef_)\n",
    "\n",
    "#cross validation score\n",
    "from sklearn.model_selection import cross_val_score\n",
    "score=cross_val_score(linear_model,x,y,cv=5)\n",
    "print(score)\n",
    "print('cross val score:',score.mean())"
   ]
  },
  {
   "cell_type": "code",
   "execution_count": 20,
   "id": "b87d192d",
   "metadata": {},
   "outputs": [
    {
     "name": "stdout",
     "output_type": "stream",
     "text": [
      "intercept value: -10475.929370901253\n",
      "coefficient values: [  236.08987551  1164.43004578   283.00003803 22598.09431543\n",
      "   451.6648211 ]\n",
      "train r2: 0.7103893010078715\n",
      "test r2: 0.715123325253967\n",
      "[0.72257426 0.67984384 0.70815983 0.72064021 0.72591312]\n"
     ]
    },
    {
     "data": {
      "text/plain": [
       "0.7114262519828582"
      ]
     },
     "execution_count": 20,
     "metadata": {},
     "output_type": "execute_result"
    }
   ],
   "source": [
    "#modeling & evaluation\n",
    "from sklearn.linear_model import Lasso\n",
    "lasso_model=Lasso()\n",
    "lasso_model.fit(x_train,y_train)\n",
    "\n",
    "#predictions\n",
    "train_predictions=lasso_model.predict(x_train)\n",
    "test_predictions=lasso_model.predict(x_test)\n",
    "\n",
    "#intercept & coefficient values\n",
    "print('intercept value:',lasso_model.intercept_)\n",
    "print('coefficient values:',lasso_model.coef_)\n",
    "\n",
    "# train & test r2\n",
    "print('train r2:',lasso_model.score(x_train,y_train))\n",
    "print('test r2:',lasso_model.score(x_test,y_test))\n",
    "\n",
    "#cross validation score\n",
    "from sklearn.model_selection import cross_val_score\n",
    "scores=cross_val_score(lasso_model,x,y,cv=5)\n",
    "print(scores)\n",
    "scores.mean()"
   ]
  },
  {
   "cell_type": "code",
   "execution_count": 21,
   "id": "edf37076",
   "metadata": {},
   "outputs": [
    {
     "name": "stdout",
     "output_type": "stream",
     "text": [
      "intercept value: -10469.487973102576\n",
      "coefficient values: [  236.1750103   1171.72231211   283.05492386 22535.81792114\n",
      "   449.37074309]\n",
      "train r2: 0.7103839459979582\n",
      "test r2: 0.7149624459963269\n",
      "[0.72249489 0.67998956 0.70818275 0.72068629 0.72578312]\n"
     ]
    },
    {
     "data": {
      "text/plain": [
       "0.7114273225620089"
      ]
     },
     "execution_count": 21,
     "metadata": {},
     "output_type": "execute_result"
    }
   ],
   "source": [
    "#modeling & evaluation\n",
    "from sklearn.linear_model import Ridge\n",
    "ridge_model=Ridge()\n",
    "ridge_model.fit(x_train,y_train)\n",
    "\n",
    "#predictions\n",
    "train_predictions=ridge_model.predict(x_train)\n",
    "test_predictions=ridge_model.predict(x_test)\n",
    "\n",
    "#intercept & coefficient values\n",
    "print('intercept value:',ridge_model.intercept_)\n",
    "print('coefficient values:',ridge_model.coef_)\n",
    "\n",
    "# train & test r2\n",
    "print('train r2:',ridge_model.score(x_train,y_train))\n",
    "print('test r2:',ridge_model.score(x_test,y_test))\n",
    "\n",
    "#cross validation score\n",
    "from sklearn.model_selection import cross_val_score\n",
    "scores=cross_val_score(ridge_model,x,y,cv=5)\n",
    "print(scores)\n",
    "scores.mean()"
   ]
  },
  {
   "cell_type": "code",
   "execution_count": 22,
   "id": "29d5b62b",
   "metadata": {},
   "outputs": [
    {
     "name": "stdout",
     "output_type": "stream",
     "text": [
      "intercept value: -6602.336410651049\n",
      "coefficient values: [ 246.97793643  848.7693202   291.39784458 4627.01359672 -166.0116682 ]\n",
      "train r2: 0.342397270131772\n",
      "test r2: 0.3354580691978728\n",
      "[0.36023098 0.32799155 0.33479102 0.35027324 0.32951585]\n"
     ]
    },
    {
     "data": {
      "text/plain": [
       "0.3405605272488292"
      ]
     },
     "execution_count": 22,
     "metadata": {},
     "output_type": "execute_result"
    }
   ],
   "source": [
    "#modeling & evaluation\n",
    "from sklearn.linear_model import ElasticNet\n",
    "ElasticNet_model=ElasticNet()\n",
    "ElasticNet_model.fit(x_train,y_train)\n",
    "\n",
    "#predictions\n",
    "train_predictions=ElasticNet_model.predict(x_train)\n",
    "test_predictions=ElasticNet_model.predict(x_test)\n",
    "\n",
    "#intercept & coefficient values\n",
    "print('intercept value:',ElasticNet_model.intercept_)\n",
    "print('coefficient values:',ElasticNet_model.coef_)\n",
    "\n",
    "# train & test r2\n",
    "print('train r2:',ElasticNet_model.score(x_train,y_train))\n",
    "print('test r2:',ElasticNet_model.score(x_test,y_test))\n",
    "\n",
    "#cross validation score\n",
    "from sklearn.model_selection import cross_val_score\n",
    "scores=cross_val_score(ElasticNet_model,x,y,cv=5)\n",
    "print(scores)\n",
    "scores.mean()"
   ]
  },
  {
   "cell_type": "code",
   "execution_count": 23,
   "id": "436d920d",
   "metadata": {},
   "outputs": [
    {
     "data": {
      "text/html": [
       "<div>\n",
       "<style scoped>\n",
       "    .dataframe tbody tr th:only-of-type {\n",
       "        vertical-align: middle;\n",
       "    }\n",
       "\n",
       "    .dataframe tbody tr th {\n",
       "        vertical-align: top;\n",
       "    }\n",
       "\n",
       "    .dataframe thead th {\n",
       "        text-align: right;\n",
       "    }\n",
       "</style>\n",
       "<table border=\"1\" class=\"dataframe\">\n",
       "  <thead>\n",
       "    <tr style=\"text-align: right;\">\n",
       "      <th></th>\n",
       "      <th>Models</th>\n",
       "      <th>Test_r2</th>\n",
       "    </tr>\n",
       "  </thead>\n",
       "  <tbody>\n",
       "    <tr>\n",
       "      <th>0</th>\n",
       "      <td>linear_model</td>\n",
       "      <td>71.515824</td>\n",
       "    </tr>\n",
       "    <tr>\n",
       "      <th>1</th>\n",
       "      <td>lasso_model</td>\n",
       "      <td>71.512333</td>\n",
       "    </tr>\n",
       "    <tr>\n",
       "      <th>2</th>\n",
       "      <td>ridge_model</td>\n",
       "      <td>71.496245</td>\n",
       "    </tr>\n",
       "    <tr>\n",
       "      <th>3</th>\n",
       "      <td>ElasticNet_model</td>\n",
       "      <td>33.545807</td>\n",
       "    </tr>\n",
       "  </tbody>\n",
       "</table>\n",
       "</div>"
      ],
      "text/plain": [
       "             Models    Test_r2\n",
       "0      linear_model  71.515824\n",
       "1       lasso_model  71.512333\n",
       "2       ridge_model  71.496245\n",
       "3  ElasticNet_model  33.545807"
      ]
     },
     "execution_count": 23,
     "metadata": {},
     "output_type": "execute_result"
    }
   ],
   "source": [
    "final_test_scores=pd.DataFrame({'Models':['linear_model','lasso_model','ridge_model','ElasticNet_model'],\n",
    "                               'Test_r2':[linear_model.score(x_test,y_test)*100,\n",
    "                                          lasso_model.score(x_test,y_test)*100,\n",
    "                                          ridge_model.score(x_test,y_test)*100,\n",
    "                                          ElasticNet_model.score(x_test,y_test)*100,]})\n",
    "final_test_scores"
   ]
  },
  {
   "cell_type": "code",
   "execution_count": 24,
   "id": "e78ce0e0",
   "metadata": {},
   "outputs": [
    {
     "data": {
      "image/png": "[encoded data removed]",
      "text/plain": [
       "<Figure size 640x480 with 1 Axes>"
      ]
     },
     "metadata": {},
     "output_type": "display_data"
    }
   ],
   "source": [
    "# visualize the accuracies after randomundersampling of models wise\n",
    "sns.barplot(final_test_scores['Models'],final_test_scores['Test_r2'])\n",
    "plt.show()"
   ]
  },
  {
   "cell_type": "markdown",
   "id": "bfafdd53",
   "metadata": {},
   "source": [
    "**out of the all models linear model gives you the best test_r2 and thie is the base model for regression**"
   ]
  },
  {
   "cell_type": "markdown",
   "id": "3aad18b0",
   "metadata": {},
   "source": [
    "**check the Assumptions of the Linear Model**"
   ]
  },
  {
   "cell_type": "code",
   "execution_count": 25,
   "id": "124fe3b1",
   "metadata": {},
   "outputs": [],
   "source": [
    "#Linearity of errors\n",
    "test_res=y_test-test_prediction"
   ]
  },
  {
   "cell_type": "code",
   "execution_count": 26,
   "id": "f575a1a8",
   "metadata": {},
   "outputs": [
    {
     "data": {
      "image/png": "[encoded data removed]",
      "text/plain": [
       "<Figure size 640x480 with 1 Axes>"
      ]
     },
     "metadata": {},
     "output_type": "display_data"
    }
   ],
   "source": [
    "plt.scatter(y_test,test_res)\n",
    "plt.xlabel('observed_values')\n",
    "plt.ylabel('fitted_values')\n",
    "plt.show()"
   ]
  },
  {
   "cell_type": "code",
   "execution_count": 27,
   "id": "2e020ba0",
   "metadata": {},
   "outputs": [
    {
     "data": {
      "image/png": "[encoded data removed]",
      "text/plain": [
       "<Figure size 500x500 with 1 Axes>"
      ]
     },
     "metadata": {},
     "output_type": "display_data"
    }
   ],
   "source": [
    "#normality of errors\n",
    "sns.displot(test_res,kde=True)\n",
    "plt.show()"
   ]
  },
  {
   "cell_type": "code",
   "execution_count": 28,
   "id": "f2f8db53",
   "metadata": {},
   "outputs": [
    {
     "data": {
      "image/png": "[encoded data removed]",
      "text/plain": [
       "<Figure size 640x480 with 1 Axes>"
      ]
     },
     "metadata": {},
     "output_type": "display_data"
    }
   ],
   "source": [
    "#equal variance of errors\n",
    "plt.scatter(test_prediction,test_res,c='r')\n",
    "plt.axhline(y=0,color='green')\n",
    "plt.xlabel('fitted_values')\n",
    "plt.ylabel('residuals')\n",
    "plt.show()"
   ]
  },
  {
   "cell_type": "code",
   "execution_count": 29,
   "id": "ccba98ed",
   "metadata": {},
   "outputs": [
    {
     "data": {
      "text/html": [
       "<table class=\"simpletable\">\n",
       "<caption>OLS Regression Results</caption>\n",
       "<tr>\n",
       "  <th>Dep. Variable:</th>            <td>y</td>        <th>  R-squared:         </th> <td>   0.712</td> \n",
       "</tr>\n",
       "<tr>\n",
       "  <th>Model:</th>                   <td>OLS</td>       <th>  Adj. R-squared:    </th> <td>   0.712</td> \n",
       "</tr>\n",
       "<tr>\n",
       "  <th>Method:</th>             <td>Least Squares</td>  <th>  F-statistic:       </th> <td>   1796.</td> \n",
       "</tr>\n",
       "<tr>\n",
       "  <th>Date:</th>             <td>Sat, 29 Apr 2023</td> <th>  Prob (F-statistic):</th>  <td>  0.00</td>  \n",
       "</tr>\n",
       "<tr>\n",
       "  <th>Time:</th>                 <td>20:21:21</td>     <th>  Log-Likelihood:    </th> <td> -36583.</td> \n",
       "</tr>\n",
       "<tr>\n",
       "  <th>No. Observations:</th>      <td>  3630</td>      <th>  AIC:               </th> <td>7.318e+04</td>\n",
       "</tr>\n",
       "<tr>\n",
       "  <th>Df Residuals:</th>          <td>  3624</td>      <th>  BIC:               </th> <td>7.321e+04</td>\n",
       "</tr>\n",
       "<tr>\n",
       "  <th>Df Model:</th>              <td>     5</td>      <th>                     </th>     <td> </td>    \n",
       "</tr>\n",
       "<tr>\n",
       "  <th>Covariance Type:</th>      <td>nonrobust</td>    <th>                     </th>     <td> </td>    \n",
       "</tr>\n",
       "</table>\n",
       "<table class=\"simpletable\">\n",
       "<tr>\n",
       "      <td></td>         <th>coef</th>     <th>std err</th>      <th>t</th>      <th>P>|t|</th>  <th>[0.025</th>    <th>0.975]</th>  \n",
       "</tr>\n",
       "<tr>\n",
       "  <th>Intercept</th> <td>-1.071e+04</td> <td>  633.323</td> <td>  -16.907</td> <td> 0.000</td> <td>-1.19e+04</td> <td>-9465.585</td>\n",
       "</tr>\n",
       "<tr>\n",
       "  <th>x[0]</th>      <td>  241.9618</td> <td>    8.062</td> <td>   30.013</td> <td> 0.000</td> <td>  226.156</td> <td>  257.768</td>\n",
       "</tr>\n",
       "<tr>\n",
       "  <th>x[1]</th>      <td> 1379.3869</td> <td>  198.232</td> <td>    6.958</td> <td> 0.000</td> <td>  990.729</td> <td> 1768.045</td>\n",
       "</tr>\n",
       "<tr>\n",
       "  <th>x[2]</th>      <td>  277.7319</td> <td>   17.799</td> <td>   15.604</td> <td> 0.000</td> <td>  242.836</td> <td>  312.628</td>\n",
       "</tr>\n",
       "<tr>\n",
       "  <th>x[3]</th>      <td>   2.3e+04</td> <td>  271.441</td> <td>   84.727</td> <td> 0.000</td> <td> 2.25e+04</td> <td> 2.35e+04</td>\n",
       "</tr>\n",
       "<tr>\n",
       "  <th>x[4]</th>      <td>  502.1294</td> <td>   57.698</td> <td>    8.703</td> <td> 0.000</td> <td>  389.005</td> <td>  615.254</td>\n",
       "</tr>\n",
       "</table>\n",
       "<table class=\"simpletable\">\n",
       "<tr>\n",
       "  <th>Omnibus:</th>       <td>987.076</td> <th>  Durbin-Watson:     </th> <td>   2.016</td>\n",
       "</tr>\n",
       "<tr>\n",
       "  <th>Prob(Omnibus):</th> <td> 0.000</td>  <th>  Jarque-Bera (JB):  </th> <td>2895.474</td>\n",
       "</tr>\n",
       "<tr>\n",
       "  <th>Skew:</th>          <td> 1.405</td>  <th>  Prob(JB):          </th> <td>    0.00</td>\n",
       "</tr>\n",
       "<tr>\n",
       "  <th>Kurtosis:</th>      <td> 6.354</td>  <th>  Cond. No.          </th> <td>    336.</td>\n",
       "</tr>\n",
       "</table><br/><br/>Notes:<br/>[1] Standard Errors assume that the covariance matrix of the errors is correctly specified."
      ],
      "text/plain": [
       "<class 'statsmodels.iolib.summary.Summary'>\n",
       "\"\"\"\n",
       "                            OLS Regression Results                            \n",
       "==============================================================================\n",
       "Dep. Variable:                      y   R-squared:                       0.712\n",
       "Model:                            OLS   Adj. R-squared:                  0.712\n",
       "Method:                 Least Squares   F-statistic:                     1796.\n",
       "Date:                Sat, 29 Apr 2023   Prob (F-statistic):               0.00\n",
       "Time:                        20:21:21   Log-Likelihood:                -36583.\n",
       "No. Observations:                3630   AIC:                         7.318e+04\n",
       "Df Residuals:                    3624   BIC:                         7.321e+04\n",
       "Df Model:                           5                                         \n",
       "Covariance Type:            nonrobust                                         \n",
       "==============================================================================\n",
       "                 coef    std err          t      P>|t|      [0.025      0.975]\n",
       "------------------------------------------------------------------------------\n",
       "Intercept  -1.071e+04    633.323    -16.907      0.000   -1.19e+04   -9465.585\n",
       "x[0]         241.9618      8.062     30.013      0.000     226.156     257.768\n",
       "x[1]        1379.3869    198.232      6.958      0.000     990.729    1768.045\n",
       "x[2]         277.7319     17.799     15.604      0.000     242.836     312.628\n",
       "x[3]          2.3e+04    271.441     84.727      0.000    2.25e+04    2.35e+04\n",
       "x[4]         502.1294     57.698      8.703      0.000     389.005     615.254\n",
       "==============================================================================\n",
       "Omnibus:                      987.076   Durbin-Watson:                   2.016\n",
       "Prob(Omnibus):                  0.000   Jarque-Bera (JB):             2895.474\n",
       "Skew:                           1.405   Prob(JB):                         0.00\n",
       "Kurtosis:                       6.354   Cond. No.                         336.\n",
       "==============================================================================\n",
       "\n",
       "Notes:\n",
       "[1] Standard Errors assume that the covariance matrix of the errors is correctly specified.\n",
       "\"\"\""
      ]
     },
     "execution_count": 29,
     "metadata": {},
     "output_type": "execute_result"
    }
   ],
   "source": [
    "#variable significance\n",
    "import statsmodels.formula.api as smf\n",
    "model1=smf.ols('y~x',data=df).fit()\n",
    "model1.summary()"
   ]
  },
  {
   "cell_type": "code",
   "execution_count": 30,
   "id": "b692af06",
   "metadata": {},
   "outputs": [
    {
     "data": {
      "text/plain": [
       "array([3835.19541532])"
      ]
     },
     "execution_count": 30,
     "metadata": {},
     "output_type": "execute_result"
    }
   ],
   "source": [
    "#prediction on the new data\n",
    "linear_model.predict([[21.000000,1,25.745000,0,2]])"
   ]
  }
 ],
 "metadata": {
  "kernelspec": {
   "display_name": "Python 3 (ipykernel)",
   "language": "python",
   "name": "python3"
  },
  "language_info": {
   "codemirror_mode": {
    "name": "ipython",
    "version": 3
   },
   "file_extension": ".py",
   "mimetype": "text/x-python",
   "name": "python",
   "nbconvert_exporter": "python",
   "pygments_lexer": "ipython3",
   "version": "3.9.13"
  }
 },
 "nbformat": 4,
 "nbformat_minor": 5
}
